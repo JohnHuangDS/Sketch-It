{
 "cells": [
  {
   "cell_type": "markdown",
   "metadata": {},
   "source": [
    "## Overview\n",
    "1. Exploring the Data\n",
    "2. Logistic Regression\n",
    "3. __CNN__\n",
    "4. Building Test Functions\n",
    "\n",
    "In this section, I build and evaluate a CNN Model using Keras."
   ]
  },
  {
   "cell_type": "code",
   "execution_count": 32,
   "metadata": {},
   "outputs": [],
   "source": [
    "import numpy as np\n",
    "import pandas as pd\n",
    "import matplotlib.pyplot as plt\n",
    "import keras\n",
    "from keras.models import Sequential\n",
    "from keras.layers import Dense\n",
    "from keras.layers import Conv2D\n",
    "from keras.layers import MaxPooling2D\n",
    "from keras.layers import Flatten\n",
    "from keras.layers import Dropout\n",
    "from sklearn.model_selection import train_test_split\n",
    "from sklearn.linear_model import LogisticRegression\n",
    "import glob\n",
    "import time\n",
    "from sklearn.preprocessing import StandardScaler\n",
    "from sklearn.preprocessing import MinMaxScaler\n",
    "from sklearn.model_selection import cross_val_score\n",
    "from sklearn.model_selection import GridSearchCV\n",
    "from sklearn.metrics import confusion_matrix\n",
    "from sklearn.pipeline import Pipeline\n",
    "from sklearn.decomposition import PCA, KernelPCA\n",
    "from tempfile import mkdtemp\n",
    "import matplotlib.pyplot as plt\n",
    "import seaborn as sns\n"
   ]
  },
  {
   "cell_type": "markdown",
   "metadata": {},
   "source": [
    "## Preparing our data"
   ]
  },
  {
   "cell_type": "code",
   "execution_count": 33,
   "metadata": {},
   "outputs": [
    {
     "data": {
      "text/plain": [
       "['/Users/john/Desktop/Demo_Day/Data/npy/full_numpy_bitmap_angel.npy',\n",
       " '/Users/john/Desktop/Demo_Day/Data/npy/full_numpy_bitmap_sword.npy',\n",
       " '/Users/john/Desktop/Demo_Day/Data/npy/full_numpy_bitmap_wine_glass.npy',\n",
       " '/Users/john/Desktop/Demo_Day/Data/npy/full_numpy_bitmap_yoga.npy']"
      ]
     },
     "execution_count": 33,
     "metadata": {},
     "output_type": "execute_result"
    }
   ],
   "source": [
    "#get path names\n",
    "path = r'/Users/john/Desktop/Demo_Day/Data/npy'\n",
    "file_names = sorted(glob.glob(path +'/*.npy'))\n",
    "file_names "
   ]
  },
  {
   "cell_type": "code",
   "execution_count": 34,
   "metadata": {},
   "outputs": [
    {
     "data": {
      "text/plain": [
       "['angel', 'sword', 'wine_glass', 'yoga']"
      ]
     },
     "execution_count": 34,
     "metadata": {},
     "output_type": "execute_result"
    }
   ],
   "source": [
    "#Get the Names of the classes\n",
    "sketch_list = []\n",
    "for path in file_names:\n",
    "    name = (path[56:path.find('.')])\n",
    "    sketch_list.append(name)\n",
    "sketch_list\n"
   ]
  },
  {
   "cell_type": "code",
   "execution_count": 35,
   "metadata": {},
   "outputs": [
    {
     "data": {
      "text/plain": [
       "LabelEncoder()"
      ]
     },
     "execution_count": 35,
     "metadata": {},
     "output_type": "execute_result"
    }
   ],
   "source": [
    "from sklearn.preprocessing import LabelEncoder\n",
    "\n",
    "# Instantiating the encoder:\n",
    "my_encoder = LabelEncoder()\n",
    "my_encoder.fit(sketch_list)"
   ]
  },
  {
   "cell_type": "code",
   "execution_count": 36,
   "metadata": {},
   "outputs": [
    {
     "name": "stdout",
     "output_type": "stream",
     "text": [
      "0:angel\n",
      "1:sword\n",
      "2:wine_glass\n",
      "3:yoga\n"
     ]
    }
   ],
   "source": [
    "for i, j in enumerate(my_encoder.classes_):\n",
    "    print(f'{i}:{j}')"
   ]
  },
  {
   "cell_type": "code",
   "execution_count": 37,
   "metadata": {},
   "outputs": [
    {
     "data": {
      "text/plain": [
       "array(['angel', 'sword', 'wine_glass', 'yoga'], dtype='<U10')"
      ]
     },
     "execution_count": 37,
     "metadata": {},
     "output_type": "execute_result"
    }
   ],
   "source": [
    "my_encoder.classes_"
   ]
  },
  {
   "cell_type": "code",
   "execution_count": 38,
   "metadata": {},
   "outputs": [],
   "source": [
    "#load npy sketch files\n",
    "X = np.load(file_names[0])[:120000,:]\n",
    "y = []\n",
    "for i in range(X.shape[0]):\n",
    "    y.append(0)\n",
    "count = 1\n",
    "\n",
    "for i in range(1,len(file_names)):\n",
    "    X = np.concatenate((X,np.load(file_names[i])[:120000,:]))\n",
    "    for j in range(np.load(file_names[i])[:120000,:].shape[0]):\n",
    "        y.append(count)\n",
    "    count +=1"
   ]
  },
  {
   "cell_type": "code",
   "execution_count": 39,
   "metadata": {},
   "outputs": [],
   "source": [
    "X_train, X_test, y_train, y_test = train_test_split(X,y, test_size = 0.4, stratify = y, random_state = 1 )"
   ]
  },
  {
   "cell_type": "code",
   "execution_count": 40,
   "metadata": {},
   "outputs": [
    {
     "name": "stdout",
     "output_type": "stream",
     "text": [
      "(288000, 784)\n",
      "288000\n",
      "{0: 72000, 1: 72000, 2: 72000, 3: 72000}\n"
     ]
    }
   ],
   "source": [
    "#Double check training data for even spreads\n",
    "print(X_train.shape)\n",
    "print(len(y_train))\n",
    "unique, counts = np.unique(np.array(y_train), return_counts=True)\n",
    "print(dict(zip(unique, counts)))"
   ]
  },
  {
   "cell_type": "code",
   "execution_count": null,
   "metadata": {},
   "outputs": [],
   "source": []
  },
  {
   "cell_type": "markdown",
   "metadata": {},
   "source": [
    "## Formatting our Data for our model"
   ]
  },
  {
   "cell_type": "code",
   "execution_count": 48,
   "metadata": {},
   "outputs": [
    {
     "name": "stdout",
     "output_type": "stream",
     "text": [
      "X_train shape: (288000, 28, 28, 1)\n",
      "X_test shape: (192000, 28, 28, 1)\n"
     ]
    }
   ],
   "source": [
    "# Define input image dimensions\n",
    "img_rows, img_cols = 28, 28\n",
    "\n",
    "# Reshape for Keras model types\n",
    "X_train = X_train.reshape(X_train.shape[0], img_rows, img_cols, 1)\n",
    "X_test = X_test.reshape(X_test.shape[0], img_rows, img_cols, 1)\n",
    "\n",
    "print(f'X_train shape: {X_train.shape}')\n",
    "print(f'X_test shape: {X_test.shape}')"
   ]
  },
  {
   "cell_type": "code",
   "execution_count": 49,
   "metadata": {},
   "outputs": [
    {
     "name": "stdout",
     "output_type": "stream",
     "text": [
      "X range: 0-255\n",
      "y values: [0 1 2 3]\n",
      "Number of classes: 4\n"
     ]
    }
   ],
   "source": [
    "# range of x values\n",
    "print(f'X range: {X_train.min()}-{X_train.max()}')\n",
    "# y unique values\n",
    "print(f'y values: {np.unique(y_train)}')\n",
    "num_classes = len(np.unique(y_train))\n",
    "print(f'Number of classes: {num_classes}')"
   ]
  },
  {
   "cell_type": "code",
   "execution_count": 50,
   "metadata": {},
   "outputs": [
    {
     "name": "stdout",
     "output_type": "stream",
     "text": [
      "X_train range: 0.0-1.0\n"
     ]
    }
   ],
   "source": [
    "# Modify the X values to be 0-1 instead of 0-255\n",
    "X_train = X_train.astype('float32')\n",
    "X_test = X_test.astype('float32')\n",
    "X_train /= 255\n",
    "X_test /= 255\n",
    "print(f'X_train range: {X_train.min()}-{X_train.max()}')"
   ]
  },
  {
   "cell_type": "markdown",
   "metadata": {},
   "source": [
    "## Creating our CNN Model"
   ]
  },
  {
   "cell_type": "code",
   "execution_count": 14,
   "metadata": {},
   "outputs": [
    {
     "name": "stdout",
     "output_type": "stream",
     "text": [
      "_________________________________________________________________\n",
      "Layer (type)                 Output Shape              Param #   \n",
      "=================================================================\n",
      "conv2d_1 (Conv2D)            (None, 26, 26, 32)        320       \n",
      "_________________________________________________________________\n",
      "conv2d_2 (Conv2D)            (None, 24, 24, 64)        18496     \n",
      "_________________________________________________________________\n",
      "max_pooling2d_1 (MaxPooling2 (None, 12, 12, 64)        0         \n",
      "_________________________________________________________________\n",
      "dropout_1 (Dropout)          (None, 12, 12, 64)        0         \n",
      "_________________________________________________________________\n",
      "flatten_1 (Flatten)          (None, 9216)              0         \n",
      "_________________________________________________________________\n",
      "dense_1 (Dense)              (None, 128)               1179776   \n",
      "_________________________________________________________________\n",
      "dropout_2 (Dropout)          (None, 128)               0         \n",
      "_________________________________________________________________\n",
      "dense_2 (Dense)              (None, 5)                 645       \n",
      "=================================================================\n",
      "Total params: 1,199,237\n",
      "Trainable params: 1,199,237\n",
      "Non-trainable params: 0\n",
      "_________________________________________________________________\n"
     ]
    }
   ],
   "source": [
    "# Create simple CNN model architecture with Pooling for dimensionality reduction \n",
    "# and Dropout to reduce overfitting\n",
    "CNN_model = Sequential()\n",
    "\n",
    "CNN_model.add(Conv2D(32, kernel_size=(3, 3), activation = 'relu', input_shape = (28, 28, 1)))\n",
    "CNN_model.add(Conv2D(64, (3, 3), activation='relu'))\n",
    "CNN_model.add(MaxPooling2D(pool_size=(2, 2)))\n",
    "\n",
    "CNN_model.add(Dropout(0.25))\n",
    "CNN_model.add(Flatten())\n",
    "CNN_model.add(Dense(128, activation='relu'))\n",
    "CNN_model.add(Dropout(0.5))\n",
    "CNN_model.add(Dense(num_classes+1, activation='softmax'))\n",
    "\n",
    "CNN_model.summary()"
   ]
  },
  {
   "cell_type": "code",
   "execution_count": 15,
   "metadata": {},
   "outputs": [],
   "source": [
    "CNN_model.compile(loss = 'sparse_categorical_crossentropy',\n",
    "                  optimizer = 'Adam',\n",
    "                  metrics = ['accuracy'])"
   ]
  },
  {
   "cell_type": "markdown",
   "metadata": {},
   "source": [
    "## Training our Model"
   ]
  },
  {
   "cell_type": "code",
   "execution_count": 16,
   "metadata": {},
   "outputs": [
    {
     "name": "stdout",
     "output_type": "stream",
     "text": [
      "Train on 201600 samples, validate on 86400 samples\n",
      "Epoch 1/12\n",
      "201600/201600 [==============================] - 251s 1ms/step - loss: 0.2617 - acc: 0.9114 - val_loss: 0.1759 - val_acc: 0.9420\n",
      "Epoch 2/12\n",
      "201600/201600 [==============================] - 269s 1ms/step - loss: 0.1860 - acc: 0.9373 - val_loss: 0.1544 - val_acc: 0.9489\n",
      "Epoch 3/12\n",
      "201600/201600 [==============================] - 229s 1ms/step - loss: 0.1635 - acc: 0.9449 - val_loss: 0.1484 - val_acc: 0.9506\n",
      "Epoch 4/12\n",
      "201600/201600 [==============================] - 250s 1ms/step - loss: 0.1464 - acc: 0.9494 - val_loss: 0.1423 - val_acc: 0.9527\n",
      "Epoch 5/12\n",
      "201600/201600 [==============================] - 227s 1ms/step - loss: 0.1332 - acc: 0.9539 - val_loss: 0.1379 - val_acc: 0.9542\n",
      "Epoch 6/12\n",
      "201600/201600 [==============================] - 214s 1ms/step - loss: 0.1233 - acc: 0.9568 - val_loss: 0.1438 - val_acc: 0.9546\n",
      "Epoch 7/12\n",
      "201600/201600 [==============================] - 223s 1ms/step - loss: 0.1134 - acc: 0.9600 - val_loss: 0.1381 - val_acc: 0.9542\n",
      "Epoch 8/12\n",
      "201600/201600 [==============================] - 225s 1ms/step - loss: 0.1063 - acc: 0.9624 - val_loss: 0.1489 - val_acc: 0.9551\n",
      "Epoch 9/12\n",
      "201600/201600 [==============================] - 227s 1ms/step - loss: 0.1011 - acc: 0.9635 - val_loss: 0.1439 - val_acc: 0.9558\n",
      "Epoch 10/12\n",
      "201600/201600 [==============================] - 214s 1ms/step - loss: 0.0941 - acc: 0.9659 - val_loss: 0.1466 - val_acc: 0.9561\n",
      "Epoch 11/12\n",
      "201600/201600 [==============================] - 214s 1ms/step - loss: 0.0907 - acc: 0.9670 - val_loss: 0.1391 - val_acc: 0.9574\n",
      "Epoch 12/12\n",
      "201600/201600 [==============================] - 212s 1ms/step - loss: 0.0862 - acc: 0.9682 - val_loss: 0.1460 - val_acc: 0.9559\n"
     ]
    },
    {
     "data": {
      "text/plain": [
       "<keras.callbacks.History at 0x1a487b7048>"
      ]
     },
     "execution_count": 16,
     "metadata": {},
     "output_type": "execute_result"
    }
   ],
   "source": [
    "CNN_model.fit(X_train, y_train,\n",
    "              batch_size = 128,\n",
    "              epochs = 12,\n",
    "              verbose = 1,\n",
    "              validation_split = 0.3)"
   ]
  },
  {
   "cell_type": "code",
   "execution_count": 18,
   "metadata": {},
   "outputs": [
    {
     "name": "stdout",
     "output_type": "stream",
     "text": [
      "192000/192000 [==============================] - 59s 305us/step\n",
      "Test loss: 0.14173344741509572\n",
      "Test accuracy: 0.9562291666666667\n"
     ]
    }
   ],
   "source": [
    "score = CNN_model.evaluate(X_test, y_test)\n",
    "\n",
    "print('Test loss:', score[0])\n",
    "print('Test accuracy:', score[1])\n"
   ]
  },
  {
   "cell_type": "markdown",
   "metadata": {},
   "source": [
    "## Storing the Model"
   ]
  },
  {
   "cell_type": "code",
   "execution_count": 19,
   "metadata": {},
   "outputs": [],
   "source": [
    "model_json = CNN_model.to_json()"
   ]
  },
  {
   "cell_type": "code",
   "execution_count": 20,
   "metadata": {},
   "outputs": [],
   "source": [
    "with open('CNN_model.json','w') as json_file:\n",
    "    json_file.write(model_json)"
   ]
  },
  {
   "cell_type": "code",
   "execution_count": 21,
   "metadata": {},
   "outputs": [],
   "source": [
    "CNN_model.save_weights('CNN_model.h5')"
   ]
  },
  {
   "cell_type": "markdown",
   "metadata": {},
   "source": [
    "## Loading the Model\n"
   ]
  },
  {
   "cell_type": "code",
   "execution_count": 82,
   "metadata": {},
   "outputs": [],
   "source": [
    "json_file = open('Demo/CNN_model.json')\n",
    "loaded_model_json = json_file.read()\n",
    "json_file.close()"
   ]
  },
  {
   "cell_type": "code",
   "execution_count": 83,
   "metadata": {},
   "outputs": [],
   "source": [
    "from keras.models import model_from_json\n",
    "CNN_model = model_from_json(loaded_model_json)\n",
    "CNN_model.load_weights(\"Demo/CNN_model.h5\")"
   ]
  },
  {
   "cell_type": "code",
   "execution_count": 84,
   "metadata": {},
   "outputs": [],
   "source": [
    "CNN_model.compile(loss = 'sparse_categorical_crossentropy',\n",
    "                  optimizer = 'Adam',\n",
    "                  metrics = ['accuracy'])"
   ]
  },
  {
   "cell_type": "markdown",
   "metadata": {},
   "source": [
    "## Looking at our results"
   ]
  },
  {
   "cell_type": "code",
   "execution_count": 73,
   "metadata": {},
   "outputs": [],
   "source": [
    "y_pred = CNN_model.predict_classes(X_test)"
   ]
  },
  {
   "cell_type": "code",
   "execution_count": 74,
   "metadata": {},
   "outputs": [
    {
     "data": {
      "text/plain": [
       "array([3, 1, 1, ..., 0, 3, 2])"
      ]
     },
     "execution_count": 74,
     "metadata": {},
     "output_type": "execute_result"
    }
   ],
   "source": [
    "y_pred"
   ]
  },
  {
   "cell_type": "code",
   "execution_count": 20,
   "metadata": {},
   "outputs": [
    {
     "data": {
      "text/plain": [
       "<matplotlib.axes._subplots.AxesSubplot at 0x1a41a85940>"
      ]
     },
     "execution_count": 20,
     "metadata": {},
     "output_type": "execute_result"
    },
    {
     "data": {
      "image/png": "[encoded data removed]",
      "text/plain": [
       "<Figure size 432x288 with 2 Axes>"
      ]
     },
     "metadata": {
      "needs_background": "light"
     },
     "output_type": "display_data"
    }
   ],
   "source": [
    "cm = confusion_matrix(y_test, y_pred)\n",
    "sns.heatmap(cm)"
   ]
  },
  {
   "cell_type": "code",
   "execution_count": 21,
   "metadata": {},
   "outputs": [
    {
     "data": {
      "text/plain": [
       "array([[45313,   212,   117,  2358],\n",
       "       [  176, 46489,   127,  1208],\n",
       "       [  208,   280, 45881,  1631],\n",
       "       [ 1081,   590,   416, 45913]])"
      ]
     },
     "execution_count": 21,
     "metadata": {},
     "output_type": "execute_result"
    }
   ],
   "source": [
    "cm"
   ]
  },
  {
   "cell_type": "code",
   "execution_count": 22,
   "metadata": {},
   "outputs": [],
   "source": [
    "for i in range(cm.shape[0]):\n",
    "    for j in range(cm.shape[0]):\n",
    "        if i == j:\n",
    "            cm[i,j] = 0"
   ]
  },
  {
   "cell_type": "code",
   "execution_count": 23,
   "metadata": {
    "scrolled": true
   },
   "outputs": [
    {
     "name": "stdout",
     "output_type": "stream",
     "text": [
      "0:angel\n",
      "1:sword\n",
      "2:wine_glass\n",
      "3:yoga\n"
     ]
    },
    {
     "data": {
      "image/png": "[encoded data removed]",
      "text/plain": [
       "<Figure size 432x288 with 2 Axes>"
      ]
     },
     "metadata": {
      "needs_background": "light"
     },
     "output_type": "display_data"
    }
   ],
   "source": [
    "sns.heatmap(cm)\n",
    "for i, j in enumerate(my_encoder.classes_):\n",
    "    print(f'{i}:{j}')\n",
    "    "
   ]
  },
  {
   "cell_type": "code",
   "execution_count": 24,
   "metadata": {},
   "outputs": [
    {
     "name": "stdout",
     "output_type": "stream",
     "text": [
      "              precision    recall  f1-score   support\n",
      "\n",
      "           0       0.97      0.94      0.96     48000\n",
      "           1       0.98      0.97      0.97     48000\n",
      "           2       0.99      0.96      0.97     48000\n",
      "           3       0.90      0.96      0.93     48000\n",
      "\n",
      "    accuracy                           0.96    192000\n",
      "   macro avg       0.96      0.96      0.96    192000\n",
      "weighted avg       0.96      0.96      0.96    192000\n",
      "\n",
      "0:angel\n",
      "1:sword\n",
      "2:wine_glass\n",
      "3:yoga\n"
     ]
    }
   ],
   "source": [
    "from sklearn.metrics import classification_report\n",
    "print(classification_report(y_test, y_pred))\n",
    "for i, j in enumerate(my_encoder.classes_):\n",
    "    print(f'{i}:{j}')"
   ]
  },
  {
   "cell_type": "markdown",
   "metadata": {},
   "source": [
    "## Precision and recall\n",
    "Once again, Class yoga had the lowest precision score (TP/(TP + FP). Class Yoga has a higher amount of false positives. \n",
    "\n",
    "Class angel has the lowest recall score (TP/(TP+FN)) and a majority of its false negatives comes from Class Yoga.\n",
    "\n",
    "CNN has significantly improved the f1-scores of all classes. In particular, the CNN recognizes yoga images much better than logistic regression."
   ]
  },
  {
   "cell_type": "markdown",
   "metadata": {},
   "source": [
    "## Looking at the misclassified photos"
   ]
  },
  {
   "cell_type": "markdown",
   "metadata": {},
   "source": [
    "y_pred"
   ]
  },
  {
   "cell_type": "code",
   "execution_count": 76,
   "metadata": {},
   "outputs": [],
   "source": [
    "#create dataframe, col1 = y_pred, col2 = y_test\n",
    "check = {'y_pred_numeric': y_pred, 'y_test': y_test}\n",
    "df = pd.DataFrame(data=check)"
   ]
  },
  {
   "cell_type": "code",
   "execution_count": 79,
   "metadata": {},
   "outputs": [],
   "source": [
    "#create mask of wrong answers\n",
    "wrong_answers_mask = ~(df['y_pred_numeric'] == df['y_test'])"
   ]
  },
  {
   "cell_type": "code",
   "execution_count": 80,
   "metadata": {},
   "outputs": [],
   "source": [
    "#create index of wrong answers since y is a list\n",
    "y_wrong_index = list(wrong_answers_mask.index[wrong_answers_mask.values == True])"
   ]
  },
  {
   "cell_type": "code",
   "execution_count": 81,
   "metadata": {},
   "outputs": [
    {
     "data": {
      "image/png": "[encoded data removed]",
      "text/plain": [
       "<Figure size 1080x1080 with 9 Axes>"
      ]
     },
     "metadata": {
      "needs_background": "light"
     },
     "output_type": "display_data"
    }
   ],
   "source": [
    "plt.subplots(3,3, figsize = (15,15))\n",
    "for i in range(9):\n",
    "    #apply mask on Xtest\n",
    "    X_test_wrong= X_test[wrong_answers_mask][i].reshape(1, img_rows, img_cols, 1)\n",
    "    #Predict y based on Xtest\n",
    "    y_pred = CNN_model.predict(X_test_wrong)\n",
    "    #must index wrong answers for test_label using y_wrong_index\n",
    "    test_label = my_encoder.inverse_transform([y_test[y_wrong_index[i]]])[0]\n",
    "    pred_label = my_encoder.inverse_transform([np.argmax(y_pred)])[0]\n",
    "    \n",
    "    \n",
    "    plt.subplot(3,3,i+1)\n",
    "    \n",
    "    plt.title(str(test_label) + ' | Prediction: '+str(pred_label))\n",
    "    plt.imshow(X_test[wrong_answers_mask][i].reshape(28,28), cmap ='Greys')\n",
    "plt.show()"
   ]
  },
  {
   "cell_type": "markdown",
   "metadata": {},
   "source": [
    "Looking at the mistakes, some of these photos are pretty hard even for a human to guess. "
   ]
  },
  {
   "cell_type": "code",
   "execution_count": null,
   "metadata": {},
   "outputs": [],
   "source": []
  }
 ],
 "metadata": {
  "kernelspec": {
   "display_name": "Python 3",
   "language": "python",
   "name": "python3"
  },
  "language_info": {
   "codemirror_mode": {
    "name": "ipython",
    "version": 3
   },
   "file_extension": ".py",
   "mimetype": "text/x-python",
   "name": "python",
   "nbconvert_exporter": "python",
   "pygments_lexer": "ipython3",
   "version": "3.6.9"
  },
  "varInspector": {
   "cols": {
    "lenName": 16,
    "lenType": 16,
    "lenVar": 40
   },
   "kernels_config": {
    "python": {
     "delete_cmd_postfix": "",
     "delete_cmd_prefix": "del ",
     "library": "var_list.py",
     "varRefreshCmd": "print(var_dic_list())"
    },
    "r": {
     "delete_cmd_postfix": ") ",
     "delete_cmd_prefix": "rm(",
     "library": "var_list.r",
     "varRefreshCmd": "cat(var_dic_list()) "
    }
   },
   "types_to_exclude": [
    "module",
    "function",
    "builtin_function_or_method",
    "instance",
    "_Feature"
   ],
   "window_display": false
  }
 },
 "nbformat": 4,
 "nbformat_minor": 2
}
