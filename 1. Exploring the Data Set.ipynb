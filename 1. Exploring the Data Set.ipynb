{
 "cells": [
  {
   "cell_type": "markdown",
   "metadata": {},
   "source": [
    "## Overview\n",
    "The purpose of this capstone project is to explore machine learning in image recognition. I have created a game that allows users to analyze there drawings using a webcam.  The Data Sets were not included in files because after compression, it still exceeded the ammount allowed through synpase.\n",
    "\n",
    "There our 4 sections to this Project.\n",
    "\n",
    "1. __Exploring the Data__\n",
    "2. Logistic Regression\n",
    "3. CNN\n",
    "4. Building Test Functions\n",
    "\n",
    "In this section, I take a preliminary look at what is in the dataset that I found"
   ]
  },
  {
   "cell_type": "markdown",
   "metadata": {},
   "source": [
    "## Loading the dataset\n",
    "\n",
    "The data set comes from: https://github.com/googlecreativelab/quickdraw-dataset\n"
   ]
  },
  {
   "cell_type": "code",
   "execution_count": 1,
   "metadata": {},
   "outputs": [],
   "source": [
    "import numpy as np\n",
    "import pandas as pd\n",
    "import glob\n",
    "import matplotlib.pyplot as plt"
   ]
  },
  {
   "cell_type": "code",
   "execution_count": 2,
   "metadata": {},
   "outputs": [
    {
     "data": {
      "text/plain": [
       "['/Users/john/Desktop/Demo_Day/Data/npy/full_numpy_bitmap_angel.npy',\n",
       " '/Users/john/Desktop/Demo_Day/Data/npy/full_numpy_bitmap_sword.npy',\n",
       " '/Users/john/Desktop/Demo_Day/Data/npy/full_numpy_bitmap_wine_glass.npy',\n",
       " '/Users/john/Desktop/Demo_Day/Data/npy/full_numpy_bitmap_yoga.npy']"
      ]
     },
     "execution_count": 2,
     "metadata": {},
     "output_type": "execute_result"
    }
   ],
   "source": [
    "#get path names\n",
    "path = r'/Users/john/Desktop/Demo_Day/Data/npy'\n",
    "file_names = sorted(glob.glob(path +'/*.npy'))\n",
    "file_names \n"
   ]
  },
  {
   "cell_type": "code",
   "execution_count": 3,
   "metadata": {},
   "outputs": [
    {
     "data": {
      "text/plain": [
       "['angel', 'sword', 'wine_glass', 'yoga']"
      ]
     },
     "execution_count": 3,
     "metadata": {},
     "output_type": "execute_result"
    }
   ],
   "source": [
    "#Get the Names of the classes\n",
    "sketch_list = []\n",
    "for path in file_names:\n",
    "    name = (path[56:path.find('.')])\n",
    "    sketch_list.append(name)\n",
    "sketch_list\n"
   ]
  },
  {
   "cell_type": "code",
   "execution_count": 4,
   "metadata": {},
   "outputs": [
    {
     "name": "stdout",
     "output_type": "stream",
     "text": [
      "Number of images in angel:149736\n",
      "Number of images in sword:123802\n",
      "Number of images in wine_glass:132302\n",
      "Number of images in yoga:280442\n"
     ]
    }
   ],
   "source": [
    "#load npy sketch files\n",
    "for i in range(len(file_names)):\n",
    "    print('Number of images in ' +sketch_list[i] +':' +str(len(np.load(file_names[i]))))"
   ]
  },
  {
   "cell_type": "code",
   "execution_count": 5,
   "metadata": {},
   "outputs": [],
   "source": [
    "#load npy sketch files the first 120000 images in each set\n",
    "X = np.load(file_names[0])[:120000,:]\n",
    "y = []\n",
    "for i in range(X.shape[0]):\n",
    "    y.append(0)\n",
    "count = 1\n",
    "\n",
    "for i in range(1,len(file_names)):\n",
    "    X = np.concatenate((X,np.load(file_names[i])[:120000,:]))\n",
    "    for j in range(np.load(file_names[i])[:120000,:].shape[0]):\n",
    "        y.append(count)\n",
    "    count +=1"
   ]
  },
  {
   "cell_type": "code",
   "execution_count": 6,
   "metadata": {},
   "outputs": [
    {
     "name": "stdout",
     "output_type": "stream",
     "text": [
      "<class 'numpy.ndarray'>\n",
      "(784,)\n"
     ]
    },
    {
     "data": {
      "text/plain": [
       "array([  0,   0,   0,   0,   0,   0,   0,   0,   0,   0,   0,   0,   0,\n",
       "         0,   0,   0,   0,   0,   0,   0,   0,   0,   0,   0,   0,   0,\n",
       "         0,   0,   0,   0,   0,   0,   0,   0,   0,   0,   0,   0,   0,\n",
       "         0,   0,   0,   0,   0,   0,   0,   0,   0,   0,   0,   0,   0,\n",
       "         0,   0,   0,   0,   0,   0,   0,   0,   0,   0,   0,   0,   0,\n",
       "         0,   0,   0,   0,   0,   0,   0,   0,   0,   0,   0,   0,   0,\n",
       "         0,   0,   0,   0,   0,   0,   0,   0,   0,   0,   0,   0,   0,\n",
       "         0,   0,   0,   0,   0,   0,   0,   0,   0,   0,   0,   0,   0,\n",
       "         0,   0,   0,   0,   0,   0,   0,   0,   0,   0,   0,   0,   0,\n",
       "         0,   0,   0,   0,   0,  16, 199, 246, 223, 151,   4,   0,   0,\n",
       "         0,   0,   0,   0,   0,   0,   0,   0,   0,   0,   0,   0,   0,\n",
       "         0,   0,   0,   0,   0,   0,   0,  46, 255, 254, 254, 255, 133,\n",
       "         0,   0,   0,   0,  10,  47,  32,   0,   0,   0,   0,   0,   0,\n",
       "         0,   0,   0,   0,  41, 117,  60,   0,   0,  43, 255, 221, 251,\n",
       "       173, 239,   0,  44, 141, 223, 254, 255, 255, 226, 161,  82,   0,\n",
       "         0,   0,   0,   0,   8, 131, 250, 255, 254,  96,   0,   5, 239,\n",
       "       251, 232, 237, 248, 187, 255, 246, 167, 117,  79,  98, 162, 230,\n",
       "       254,  16,   0,   0,   0,   1, 182, 254, 151,  22, 178, 247,  54,\n",
       "         0, 180, 255, 255, 255, 200, 253, 110,  15,   0,   0,   0,   0,\n",
       "         0,  67, 255,  59,   0,   0,   0, 114, 255,  96,   0,   0,  15,\n",
       "       217, 226,  28, 230, 255, 255, 255, 254, 138,   0,   0,   0,   0,\n",
       "         0,   0,   0,  23, 255, 103,   0,   0,  12, 240, 169,   0,   0,\n",
       "         0,   0,  42, 241, 244, 245, 177,  81, 228, 254,  27,   0,   0,\n",
       "         0,   0,   0,   0,   0,   4, 255, 118,   0,   0,  95, 255,  49,\n",
       "         0,   0,   0,   0,   0,  30, 161, 255, 184,   0, 181, 228,   0,\n",
       "         0,   0,   0,   0,   0,   0,   0,  12, 255, 110,   0,   0, 118,\n",
       "       255,   4,   0,   0,   0,   0,   0,   0,   0, 245, 134,   0, 157,\n",
       "       219,   0,   0,   0,   0,   0,   0,   0,   0,  25, 255, 100,   0,\n",
       "         0, 111, 255,  10,   0,   0,   0,   0,   0,   0,   0, 248, 129,\n",
       "         0, 150, 228,   0,   0,   0,   0,   0,   0,   0,   0,  78, 255,\n",
       "        54,   0,   0, 104, 255,  20,   0,   0,   0,   0,   0,   0,   0,\n",
       "       252, 125,   0, 125, 250,   3,   0,   0,   0,   0,   0,   0,   0,\n",
       "       186, 232,   5,   0,   0,  56, 254, 122,   0,   0,   0,   0,   0,\n",
       "         0,  22, 255, 103,   0,  94, 255,  29,   0,   0,   0,   0,   0,\n",
       "         0,  82, 255,  99,   0,   0,   0,   0, 163, 254, 178,  89,  18,\n",
       "         0,   0,   0,  63, 255,  62,   0,  63, 255,  60,   0,   0,   0,\n",
       "         0,   0,  29, 234, 199,   2,   0,   0,   0,   0,   7, 115, 226,\n",
       "       255, 252, 193, 118,  43, 103, 255,  21,   0,  32, 255,  91,   0,\n",
       "         0,   0,   0,  14, 199, 237,  32,   0,   0,   0,   0,   0,   0,\n",
       "         0,   0,  48, 123, 199, 253, 255, 241, 247,  71,  12,  13, 254,\n",
       "       148,  22,  40,  92, 152, 229, 250,  73,   0,   0,   0,   0,   0,\n",
       "         0,   0,   0,   0,   0,   0,   0,  21,  96, 233, 252, 255, 255,\n",
       "       124, 255, 255, 255, 255, 255, 234, 172,  47,   0,   0,   0,   0,\n",
       "         0,   0,   0,   0,   0,   0,   0,   0,   0,   0, 162, 255, 255,\n",
       "       255, 255, 255, 255, 207, 100,  83,  40,   0,   0,   0,   0,   0,\n",
       "         0,   0,   0,   0,   0,   0,   0,   0,   0,   0,   0,   0,  47,\n",
       "       223, 208,  85,  80, 177, 239,  51,   0,   0,   0,   0,   0,   0,\n",
       "         0,   0,   0,   0,   0,   0,   0,   0,   0,   0,   0,   0,   0,\n",
       "         0, 104, 255, 154,   0,   0, 109, 255, 197,   0,   0,   0,   0,\n",
       "         0,   0,   0,   0,   0,   0,   0,   0,   0,   0,   0,   0,   0,\n",
       "         0,   0,   0, 101, 236,  59,   0,   0,  10, 168,  90,   0,   0,\n",
       "         0,   0,   0,   0,   0,   0,   0,   0,   0,   0,   0,   0,   0,\n",
       "         0,   0,   0,   0,   0,   0,   0,   0,   0,   0,   0,   0,   0,\n",
       "         0,   0,   0,   0,   0,   0,   0,   0,   0,   0,   0,   0,   0,\n",
       "         0,   0,   0,   0,   0,   0,   0,   0,   0,   0,   0,   0,   0,\n",
       "         0,   0,   0,   0,   0,   0,   0,   0,   0,   0,   0,   0,   0,\n",
       "         0,   0,   0,   0,   0,   0,   0,   0,   0,   0,   0,   0,   0,\n",
       "         0,   0,   0,   0,   0,   0,   0,   0,   0,   0,   0,   0,   0,\n",
       "         0,   0,   0,   0,   0,   0,   0,   0,   0,   0,   0,   0,   0,\n",
       "         0,   0,   0,   0,   0,   0,   0,   0,   0,   0,   0,   0,   0,\n",
       "         0,   0,   0,   0], dtype=uint8)"
      ]
     },
     "execution_count": 6,
     "metadata": {},
     "output_type": "execute_result"
    }
   ],
   "source": [
    "#viewing the first image and looking at the values\n",
    "print(type(X[0]))\n",
    "print((X[0].shape))\n",
    "X[0]\n"
   ]
  },
  {
   "cell_type": "code",
   "execution_count": 7,
   "metadata": {},
   "outputs": [
    {
     "data": {
      "image/png": "[encoded data removed]",
      "text/plain": [
       "<Figure size 720x720 with 12 Axes>"
      ]
     },
     "metadata": {
      "needs_background": "light"
     },
     "output_type": "display_data"
    }
   ],
   "source": [
    "#Display the first 3 photos in the 4 categories ['angel', 'sword', 'wine_glass', 'yoga']\n",
    "plt.subplots(4,3, figsize = (10,10))\n",
    "count = 1\n",
    "for i in range(4):\n",
    "    for j in range(3):\n",
    "        plt.subplot(4,3,count)\n",
    "        k = i*120000 + j\n",
    "        plt.imshow(X[k].reshape(28,28), cmap = 'gray')\n",
    "        count+=1\n",
    "plt.show()"
   ]
  },
  {
   "cell_type": "markdown",
   "metadata": {},
   "source": [
    "## Summary\n",
    "We know that each array has a shape of (784,) and is a numpy.array\n",
    "\n",
    "The images are 28 pixels by 28 pixels. They usually have a minimum one pixel padding on each edge. \n",
    "\n",
    "Typically, a pixel value of 0 = Black and 255 = White."
   ]
  }
 ],
 "metadata": {
  "kernelspec": {
   "display_name": "Python 3",
   "language": "python",
   "name": "python3"
  },
  "language_info": {
   "codemirror_mode": {
    "name": "ipython",
    "version": 3
   },
   "file_extension": ".py",
   "mimetype": "text/x-python",
   "name": "python",
   "nbconvert_exporter": "python",
   "pygments_lexer": "ipython3",
   "version": "3.7.3"
  },
  "varInspector": {
   "cols": {
    "lenName": 16,
    "lenType": 16,
    "lenVar": 40
   },
   "kernels_config": {
    "python": {
     "delete_cmd_postfix": "",
     "delete_cmd_prefix": "del ",
     "library": "var_list.py",
     "varRefreshCmd": "print(var_dic_list())"
    },
    "r": {
     "delete_cmd_postfix": ") ",
     "delete_cmd_prefix": "rm(",
     "library": "var_list.r",
     "varRefreshCmd": "cat(var_dic_list()) "
    }
   },
   "types_to_exclude": [
    "module",
    "function",
    "builtin_function_or_method",
    "instance",
    "_Feature"
   ],
   "window_display": false
  }
 },
 "nbformat": 4,
 "nbformat_minor": 2
}
