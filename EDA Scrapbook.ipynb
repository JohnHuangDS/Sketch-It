{
 "cells": [
  {
   "cell_type": "code",
   "execution_count": 1,
   "metadata": {},
   "outputs": [],
   "source": [
    "import numpy as np\n",
    "import pandas as pd\n",
    "import matplotlib.pyplot as plt\n",
    "%matplotlib inline\n",
    "from sklearn.model_selection import train_test_split\n",
    "from sklearn.linear_model import LogisticRegression\n",
    "from sklearn.neighbors import KNeighborsClassifier\n",
    "from sklearn.decomposition import PCA\n",
    "from sklearn.preprocessing import StandardScaler\n",
    "from sklearn.tree import DecisionTreeClassifier\n",
    "from sklearn.model_selection import cross_val_score\n",
    "from sklearn.model_selection import GridSearchCV\n",
    "from sklearn.metrics import confusion_matrix\n",
    "from sklearn import svm\n",
    "from sklearn.pipeline import Pipeline\n",
    "from sklearn.ensemble import RandomForestClassifier\n",
    "import os\n"
   ]
  },
  {
   "cell_type": "code",
   "execution_count": 2,
   "metadata": {},
   "outputs": [],
   "source": [
    "tower = np.load('data/npy/full_numpy_bitmap_The Eiffel Tower.npy')\n",
    "airplane = np.load('data/npy/full_numpy_bitmap_airplane.npy')\n",
    "clock = np.load('data/npy/full_numpy_bitmap_alarm clock.npy')\n",
    "angel = np.load('data/npy/full_numpy_bitmap_angel.npy')\n",
    "banana = np.load('data/npy/full_numpy_bitmap_banana.npy')\n",
    "baseball_bat = np.load('data/npy/full_numpy_bitmap_baseball bat.npy')\n",
    "campfire = np.load('data/npy/full_numpy_bitmap_campfire.npy')\n",
    "house = np.load('data/npy/full_numpy_bitmap_house.npy')\n",
    "ice_cream = np.load('data/npy/full_numpy_bitmap_ice cream.npy')\n",
    "teddy_bear = np.load('data/npy/full_numpy_bitmap_teddy-bear.npy')\n",
    "sample_size = range(2,11)"
   ]
  },
  {
   "cell_type": "code",
   "execution_count": 4,
   "metadata": {},
   "outputs": [
    {
     "name": "stdout",
     "output_type": "stream",
     "text": [
      "2\n",
      "tower_100\n",
      "0\n",
      "airplane_100\n",
      "1\n"
     ]
    },
    {
     "name": "stderr",
     "output_type": "stream",
     "text": [
      "/Users/john/anaconda3/lib/python3.7/site-packages/sklearn/linear_model/logistic.py:947: ConvergenceWarning: lbfgs failed to converge. Increase the number of iterations.\n",
      "  \"of iterations.\", ConvergenceWarning)\n"
     ]
    },
    {
     "name": "stdout",
     "output_type": "stream",
     "text": [
      "3\n",
      "tower_100\n",
      "0\n",
      "airplane_100\n",
      "1\n",
      "clock_100\n",
      "2\n"
     ]
    },
    {
     "name": "stderr",
     "output_type": "stream",
     "text": [
      "/Users/john/anaconda3/lib/python3.7/site-packages/sklearn/linear_model/logistic.py:947: ConvergenceWarning: lbfgs failed to converge. Increase the number of iterations.\n",
      "  \"of iterations.\", ConvergenceWarning)\n"
     ]
    },
    {
     "name": "stdout",
     "output_type": "stream",
     "text": [
      "4\n",
      "tower_100\n",
      "0\n",
      "airplane_100\n",
      "1\n",
      "clock_100\n",
      "2\n",
      "angel_100\n",
      "3\n"
     ]
    },
    {
     "name": "stderr",
     "output_type": "stream",
     "text": [
      "/Users/john/anaconda3/lib/python3.7/site-packages/sklearn/linear_model/logistic.py:947: ConvergenceWarning: lbfgs failed to converge. Increase the number of iterations.\n",
      "  \"of iterations.\", ConvergenceWarning)\n"
     ]
    },
    {
     "name": "stdout",
     "output_type": "stream",
     "text": [
      "5\n",
      "tower_100\n",
      "0\n",
      "airplane_100\n",
      "1\n",
      "clock_100\n",
      "2\n",
      "angel_100\n",
      "3\n",
      "banana_100\n",
      "4\n"
     ]
    },
    {
     "name": "stderr",
     "output_type": "stream",
     "text": [
      "/Users/john/anaconda3/lib/python3.7/site-packages/sklearn/linear_model/logistic.py:947: ConvergenceWarning: lbfgs failed to converge. Increase the number of iterations.\n",
      "  \"of iterations.\", ConvergenceWarning)\n"
     ]
    },
    {
     "name": "stdout",
     "output_type": "stream",
     "text": [
      "6\n",
      "tower_100\n",
      "0\n",
      "airplane_100\n",
      "1\n",
      "clock_100\n",
      "2\n",
      "angel_100\n",
      "3\n",
      "banana_100\n",
      "4\n",
      "baseball_bat_100\n",
      "5\n"
     ]
    },
    {
     "name": "stderr",
     "output_type": "stream",
     "text": [
      "/Users/john/anaconda3/lib/python3.7/site-packages/sklearn/linear_model/logistic.py:947: ConvergenceWarning: lbfgs failed to converge. Increase the number of iterations.\n",
      "  \"of iterations.\", ConvergenceWarning)\n"
     ]
    },
    {
     "name": "stdout",
     "output_type": "stream",
     "text": [
      "7\n",
      "tower_100\n",
      "0\n",
      "airplane_100\n",
      "1\n",
      "clock_100\n",
      "2\n",
      "angel_100\n",
      "3\n",
      "banana_100\n",
      "4\n",
      "baseball_bat_100\n",
      "5\n",
      "campfire_100\n",
      "6\n"
     ]
    },
    {
     "name": "stderr",
     "output_type": "stream",
     "text": [
      "/Users/john/anaconda3/lib/python3.7/site-packages/sklearn/linear_model/logistic.py:947: ConvergenceWarning: lbfgs failed to converge. Increase the number of iterations.\n",
      "  \"of iterations.\", ConvergenceWarning)\n"
     ]
    },
    {
     "name": "stdout",
     "output_type": "stream",
     "text": [
      "8\n",
      "tower_100\n",
      "0\n",
      "airplane_100\n",
      "1\n",
      "clock_100\n",
      "2\n",
      "angel_100\n",
      "3\n",
      "banana_100\n",
      "4\n",
      "baseball_bat_100\n",
      "5\n",
      "campfire_100\n",
      "6\n",
      "house_100\n",
      "7\n"
     ]
    },
    {
     "name": "stderr",
     "output_type": "stream",
     "text": [
      "/Users/john/anaconda3/lib/python3.7/site-packages/sklearn/linear_model/logistic.py:947: ConvergenceWarning: lbfgs failed to converge. Increase the number of iterations.\n",
      "  \"of iterations.\", ConvergenceWarning)\n"
     ]
    },
    {
     "name": "stdout",
     "output_type": "stream",
     "text": [
      "9\n",
      "tower_100\n",
      "0\n",
      "airplane_100\n",
      "1\n",
      "clock_100\n",
      "2\n",
      "angel_100\n",
      "3\n",
      "banana_100\n",
      "4\n",
      "baseball_bat_100\n",
      "5\n",
      "campfire_100\n",
      "6\n",
      "house_100\n",
      "7\n",
      "ice_cream_100\n",
      "8\n"
     ]
    },
    {
     "name": "stderr",
     "output_type": "stream",
     "text": [
      "/Users/john/anaconda3/lib/python3.7/site-packages/sklearn/linear_model/logistic.py:947: ConvergenceWarning: lbfgs failed to converge. Increase the number of iterations.\n",
      "  \"of iterations.\", ConvergenceWarning)\n"
     ]
    },
    {
     "name": "stdout",
     "output_type": "stream",
     "text": [
      "10\n",
      "tower_100\n",
      "0\n",
      "airplane_100\n",
      "1\n",
      "clock_100\n",
      "2\n",
      "angel_100\n",
      "3\n",
      "banana_100\n",
      "4\n",
      "baseball_bat_100\n",
      "5\n",
      "campfire_100\n",
      "6\n",
      "house_100\n",
      "7\n",
      "ice_cream_100\n",
      "8\n",
      "teddy_bear_100\n",
      "9\n"
     ]
    },
    {
     "name": "stderr",
     "output_type": "stream",
     "text": [
      "/Users/john/anaconda3/lib/python3.7/site-packages/sklearn/linear_model/logistic.py:947: ConvergenceWarning: lbfgs failed to converge. Increase the number of iterations.\n",
      "  \"of iterations.\", ConvergenceWarning)\n"
     ]
    }
   ],
   "source": [
    "lr_train_acc = []\n",
    "lr_test_acc = []\n",
    "tower_100 = tower[:100000]\n",
    "airplane_100 = airplane[:100000]\n",
    "clock_100 = clock[:100000]\n",
    "angel_100 = angel[:100000]\n",
    "banana_100 = banana[:100000]\n",
    "baseball_bat_100 = baseball_bat[:100000]\n",
    "campfire_100 = campfire[:100000]\n",
    "house_100 = house[:100000]\n",
    "ice_cream_100 = ice_cream[:100000]\n",
    "teddy_bear_100 = teddy_bear[:100000]\n",
    "\n",
    "sketch_list = ['tower_100','airplane_100','clock_100', 'angel_100', 'banana_100', 'baseball_bat_100', \\\n",
    "                   'campfire_100','house_100','ice_cream_100','teddy_bear_100']\n",
    "\n",
    "#loop for number of elements (2-10)\n",
    "for num_ele in range(2,11):\n",
    "    print(num_ele)\n",
    "    y = []\n",
    "    X = tower_100\n",
    "    #loop to get sketch_list names\n",
    "    for i in range(0,num_ele):\n",
    "        print(sketch_list[i])\n",
    "        print(i)\n",
    "        #get y values(if 2 elements, class 0 and 1)\n",
    "        for j in range(tower_100.shape[0]):\n",
    "            y.append(i)\n",
    "        \n",
    "    for i in range(1,num_ele):\n",
    "        X = np.concatenate((X,eval(sketch_list[i])))\n",
    "    \n",
    "     \n",
    "    X_train, X_test, y_train, y_test = train_test_split(X, y, test_size=0.4, stratify = y, random_state = 1)\n",
    "    model_lr = LogisticRegression(solver = 'lbfgs', multi_class = 'auto', max_iter = 100,random_state = 0)\n",
    "    model_lr.fit(X_train,y_train)\n",
    "\n",
    "    lr_train_acc.append(model_lr.score(X_train,y_train))\n",
    "    lr_test_acc.append(model_lr.score(X_test,y_test))\n"
   ]
  },
  {
   "cell_type": "code",
   "execution_count": 5,
   "metadata": {},
   "outputs": [
    {
     "data": {
      "text/plain": [
       "Text(0, 0.5, 'Test Accuracy')"
      ]
     },
     "execution_count": 5,
     "metadata": {},
     "output_type": "execute_result"
    },
    {
     "data": {
      "image/png": "[encoded data removed]",
      "text/plain": [
       "<Figure size 720x576 with 1 Axes>"
      ]
     },
     "metadata": {
      "needs_background": "light"
     },
     "output_type": "display_data"
    }
   ],
   "source": [
    "plt.figure(figsize = [10,8])\n",
    "plt.plot(sample_size, lr_test_acc)\n",
    "plt.title('Accuracy vs Number of Classes', fontsize = 15)\n",
    "plt.xlabel('Sample Size',fontsize = 15)\n",
    "plt.ylabel('Test Accuracy',fontsize = 15)"
   ]
  },
  {
   "cell_type": "code",
   "execution_count": 6,
   "metadata": {},
   "outputs": [
    {
     "name": "stdout",
     "output_type": "stream",
     "text": [
      "2\n",
      "tower_100\n",
      "0\n",
      "airplane_100\n",
      "1\n",
      "3\n",
      "tower_100\n",
      "0\n",
      "airplane_100\n",
      "1\n",
      "clock_100\n",
      "2\n",
      "4\n",
      "tower_100\n",
      "0\n",
      "airplane_100\n",
      "1\n",
      "clock_100\n",
      "2\n",
      "angel_100\n",
      "3\n",
      "5\n",
      "tower_100\n",
      "0\n",
      "airplane_100\n",
      "1\n",
      "clock_100\n",
      "2\n",
      "angel_100\n",
      "3\n",
      "banana_100\n",
      "4\n",
      "6\n",
      "tower_100\n",
      "0\n",
      "airplane_100\n",
      "1\n",
      "clock_100\n",
      "2\n",
      "angel_100\n",
      "3\n",
      "banana_100\n",
      "4\n",
      "baseball_bat_100\n",
      "5\n",
      "7\n",
      "tower_100\n",
      "0\n",
      "airplane_100\n",
      "1\n",
      "clock_100\n",
      "2\n",
      "angel_100\n",
      "3\n",
      "banana_100\n",
      "4\n",
      "baseball_bat_100\n",
      "5\n",
      "campfire_100\n",
      "6\n",
      "8\n",
      "tower_100\n",
      "0\n",
      "airplane_100\n",
      "1\n",
      "clock_100\n",
      "2\n",
      "angel_100\n",
      "3\n",
      "banana_100\n",
      "4\n",
      "baseball_bat_100\n",
      "5\n",
      "campfire_100\n",
      "6\n",
      "house_100\n",
      "7\n",
      "9\n",
      "tower_100\n",
      "0\n",
      "airplane_100\n",
      "1\n",
      "clock_100\n",
      "2\n",
      "angel_100\n",
      "3\n",
      "banana_100\n",
      "4\n",
      "baseball_bat_100\n",
      "5\n",
      "campfire_100\n",
      "6\n",
      "house_100\n",
      "7\n",
      "ice_cream_100\n",
      "8\n",
      "10\n",
      "tower_100\n",
      "0\n",
      "airplane_100\n",
      "1\n",
      "clock_100\n",
      "2\n",
      "angel_100\n",
      "3\n",
      "banana_100\n",
      "4\n",
      "baseball_bat_100\n",
      "5\n",
      "campfire_100\n",
      "6\n",
      "house_100\n",
      "7\n",
      "ice_cream_100\n",
      "8\n",
      "teddy_bear_100\n",
      "9\n"
     ]
    }
   ],
   "source": [
    "rf_train_acc = []\n",
    "rf_test_acc = []\n",
    "tower_100 = tower[:100000]\n",
    "airplane_100 = airplane[:100000]\n",
    "clock_100 = clock[:100000]\n",
    "angel_100 = angel[:100000]\n",
    "banana_100 = banana[:100000]\n",
    "baseball_bat_100 = baseball_bat[:100000]\n",
    "campfire_100 = campfire[:100000]\n",
    "house_100 = house[:100000]\n",
    "ice_cream_100 = ice_cream[:100000]\n",
    "teddy_bear_100 = teddy_bear[:100000]\n",
    "\n",
    "sketch_list = ['tower_100','airplane_100','clock_100', 'angel_100', 'banana_100', 'baseball_bat_100', \\\n",
    "                   'campfire_100','house_100','ice_cream_100','teddy_bear_100']\n",
    "\n",
    "#loop for number of elements (2-10)\n",
    "for num_ele in range(2,11):\n",
    "    print(num_ele)\n",
    "    y = []\n",
    "    X = tower_100\n",
    "    #loop to get sketch_list names\n",
    "    for i in range(0,num_ele):\n",
    "        print(sketch_list[i])\n",
    "        print(i)\n",
    "        #get y values(if 2 elements, class 0 and 1)\n",
    "        for j in range(tower_100.shape[0]):\n",
    "            y.append(i)\n",
    "        \n",
    "    for i in range(1,num_ele):\n",
    "        X = np.concatenate((X,eval(sketch_list[i])))\n",
    "    \n",
    "     \n",
    "    X_train, X_test, y_train, y_test = train_test_split(X, y, test_size=0.4, stratify = y, random_state = 1)\n",
    "    model_lr = RandomForestClassifier(n_estimators=10)\n",
    "    model_lr.fit(X_train,y_train)\n",
    "\n",
    "    rf_train_acc.append(model_lr.score(X_train,y_train))\n",
    "    rf_test_acc.append(model_lr.score(X_test,y_test))\n"
   ]
  },
  {
   "cell_type": "code",
   "execution_count": 7,
   "metadata": {},
   "outputs": [
    {
     "data": {
      "text/plain": [
       "Text(0, 0.5, 'Test Accuracy')"
      ]
     },
     "execution_count": 7,
     "metadata": {},
     "output_type": "execute_result"
    },
    {
     "data": {
      "image/png": "[encoded data removed]",
      "text/plain": [
       "<Figure size 720x576 with 1 Axes>"
      ]
     },
     "metadata": {
      "needs_background": "light"
     },
     "output_type": "display_data"
    }
   ],
   "source": [
    "plt.figure(figsize = [10,8])\n",
    "plt.plot(sample_size, rf_test_acc)\n",
    "plt.title('Accuracy vs Number of Classes', fontsize = 15)\n",
    "plt.xlabel('Sample Size',fontsize = 15)\n",
    "plt.ylabel('Test Accuracy',fontsize = 15)"
   ]
  },
  {
   "cell_type": "code",
   "execution_count": 33,
   "metadata": {},
   "outputs": [
    {
     "data": {
      "image/png": "[encoded data removed]",
      "text/plain": [
       "<Figure size 720x360 with 2 Axes>"
      ]
     },
     "metadata": {
      "needs_background": "light"
     },
     "output_type": "display_data"
    }
   ],
   "source": [
    "fig, axs = plt.subplots(1, 2, constrained_layout=True)\n",
    "\n",
    "axs[0].plot(sample_size, lr_test_acc)\n",
    "axs[0].set_title('Linear Regression Classifier', fontsize = 15)\n",
    "axs[0].set_xlabel('Number of Classes', fontsize = 15)\n",
    "axs[0].set_ylabel('Test Accuracy', fontsize = 15)\n",
    "axs[0].set_ylim([.70, 1])\n",
    "\n",
    "\n",
    "fig.suptitle('       Eiffel Tower', fontsize=25)\n",
    "fig.set_figheight(5)\n",
    "fig.set_figwidth(10)\n",
    "\n",
    "axs[1].plot(sample_size, rf_test_acc)\n",
    "\n",
    "axs[1].set_title('Random Forest Classifier', fontsize = 15)\n",
    "axs[1].set_xlabel('Number of Classes', fontsize = 15)\n",
    "axs[1].set_ylabel('Test Accuracy', fontsize = 15)\n",
    "axs[1].set_ylim([.70, 1])\n",
    "\n",
    "plt.show()"
   ]
  },
  {
   "cell_type": "code",
   "execution_count": null,
   "metadata": {},
   "outputs": [],
   "source": []
  }
 ],
 "metadata": {
  "kernelspec": {
   "display_name": "Python 3",
   "language": "python",
   "name": "python3"
  },
  "language_info": {
   "codemirror_mode": {
    "name": "ipython",
    "version": 3
   },
   "file_extension": ".py",
   "mimetype": "text/x-python",
   "name": "python",
   "nbconvert_exporter": "python",
   "pygments_lexer": "ipython3",
   "version": "3.7.3"
  },
  "varInspector": {
   "cols": {
    "lenName": 16,
    "lenType": 16,
    "lenVar": 40
   },
   "kernels_config": {
    "python": {
     "delete_cmd_postfix": "",
     "delete_cmd_prefix": "del ",
     "library": "var_list.py",
     "varRefreshCmd": "print(var_dic_list())"
    },
    "r": {
     "delete_cmd_postfix": ") ",
     "delete_cmd_prefix": "rm(",
     "library": "var_list.r",
     "varRefreshCmd": "cat(var_dic_list()) "
    }
   },
   "types_to_exclude": [
    "module",
    "function",
    "builtin_function_or_method",
    "instance",
    "_Feature"
   ],
   "window_display": false
  }
 },
 "nbformat": 4,
 "nbformat_minor": 2
}
